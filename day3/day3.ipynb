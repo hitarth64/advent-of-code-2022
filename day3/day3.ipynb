{
 "cells": [
  {
   "cell_type": "code",
   "execution_count": 1,
   "metadata": {},
   "outputs": [],
   "source": [
    "import numpy as np\n",
    "from string import ascii_letters"
   ]
  },
  {
   "cell_type": "code",
   "execution_count": 2,
   "metadata": {},
   "outputs": [],
   "source": [
    "class Solution:\n",
    "\n",
    "    def __init__(self, filename):\n",
    "        self.filename = filename\n",
    "        self.data = self.readfile()\n",
    "        alphabet2value = {chr(97+i):i+1 for i in range(0,26)}\n",
    "        Alphabet2value = {chr(65+i):i+27 for i in range(0,26)}\n",
    "        self.alpha2val = {**alphabet2value, **Alphabet2value}\n",
    "\n",
    "    def readfile(self):\n",
    "        lines = open(self.filename,'r').readlines()\n",
    "        self.lines = []\n",
    "        contents = []\n",
    "        for line in lines:\n",
    "            line = line.replace('\\n','')\n",
    "            self.lines.append(line)\n",
    "            NoOfThingsPerCompartment = len(line)//2\n",
    "            knapsack_1 = line[:NoOfThingsPerCompartment]\n",
    "            knapsack_2 = line[NoOfThingsPerCompartment:]\n",
    "            contents.append([knapsack_1,knapsack_2])\n",
    "        return contents\n",
    "\n",
    "    def FindCommonItemPerRucksack(self):\n",
    "        CommonItems = []\n",
    "        for content in self.data:\n",
    "            CommonItems.append(list(set(content[0]).intersection(content[1]))[0])\n",
    "        return CommonItems\n",
    "\n",
    "    def SumPriorities(self): # Part 1\n",
    "        self.CommonItems = self.FindCommonItemPerRucksack()\n",
    "        self.priorities = [self.alpha2val[i] for i in self.CommonItems]\n",
    "        return sum(self.priorities)\n",
    "        \n",
    "    def FindCommonItemPerElfGroup(self):\n",
    "        CommonItems = []\n",
    "        for index in range(0, len(self.lines), 3):\n",
    "            CommonItems.append(list(set(self.lines[index]).intersection(self.lines[index+1]).\\\n",
    "                            intersection(self.lines[index+2])) [0])\n",
    "        return CommonItems\n",
    "    \n",
    "    def SumBadges(self): # Part 2\n",
    "        self.GroupCommonItems = self.FindCommonItemPerElfGroup()\n",
    "        self.BadgeNos = [self.alpha2val[i] for i in self.GroupCommonItems]\n",
    "        return sum(self.BadgeNos)\n",
    "\n"
   ]
  },
  {
   "cell_type": "markdown",
   "metadata": {},
   "source": [
    "### Part 1"
   ]
  },
  {
   "cell_type": "code",
   "execution_count": 3,
   "metadata": {},
   "outputs": [
    {
     "data": {
      "text/plain": [
       "8185"
      ]
     },
     "execution_count": 3,
     "metadata": {},
     "output_type": "execute_result"
    }
   ],
   "source": [
    "sol = Solution('input3')\n",
    "sol.SumPriorities()"
   ]
  },
  {
   "cell_type": "markdown",
   "metadata": {},
   "source": [
    "### Part 2"
   ]
  },
  {
   "cell_type": "code",
   "execution_count": 4,
   "metadata": {},
   "outputs": [
    {
     "data": {
      "text/plain": [
       "2817"
      ]
     },
     "execution_count": 4,
     "metadata": {},
     "output_type": "execute_result"
    }
   ],
   "source": [
    "# Part\n",
    "sol.SumBadges()"
   ]
  }
 ],
 "metadata": {
  "kernelspec": {
   "display_name": "Python 3.7.4 ('base')",
   "language": "python",
   "name": "python3"
  },
  "language_info": {
   "codemirror_mode": {
    "name": "ipython",
    "version": 3
   },
   "file_extension": ".py",
   "mimetype": "text/x-python",
   "name": "python",
   "nbconvert_exporter": "python",
   "pygments_lexer": "ipython3",
   "version": "3.7.4"
  },
  "orig_nbformat": 4,
  "vscode": {
   "interpreter": {
    "hash": "0aad41ef76d25e4920b6140ef8575eabe4c9f0684df63fed76280bc5483a0389"
   }
  }
 },
 "nbformat": 4,
 "nbformat_minor": 2
}
