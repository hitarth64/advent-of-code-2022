{
 "cells": [
  {
   "cell_type": "code",
   "execution_count": null,
   "metadata": {},
   "outputs": [],
   "source": [
    "import numpy as np"
   ]
  },
  {
   "cell_type": "code",
   "execution_count": null,
   "metadata": {},
   "outputs": [],
   "source": [
    "class Solution:\n",
    "\n",
    "    def __init__(self, filename):\n",
    "        self.filename = filename\n",
    "        self.map_ABC = {'A':'Rock', 'B':'Paper', 'C':'Scissors'}\n",
    "        self.map_XYZ = {'X':'Rock', 'Y':'Paper', 'Z':'Scissors'}\n",
    "        self.item_value = {'Rock':1, 'Paper':2, 'Scissors':3}\n",
    "        self.truth_table = {('Rock','Rock'):3, ('Rock','Paper'):6, ('Rock','Scissors'):0, ('Paper','Rock'):0, ('Paper','Paper'):3, ('Paper','Scissors'):6, \n",
    "                                ('Scissors','Rock'):6, ('Scissors','Paper'):0, ('Scissors','Scissors'):3}\n",
    "        self.data = self.readfile()\n",
    "\n",
    "    def readfile(self):\n",
    "        lines = open(self.filename,'r').readlines()\n",
    "        scores = []\n",
    "        for idx, line in enumerate(lines):\n",
    "            play1, play2 = line.replace('\\n','').split(' ')[:2]\n",
    "            play1, play2 = self.map_ABC[play1], self.map_XYZ[play2]\n",
    "            win_score = self.truth_table[(play1,play2)]\n",
    "            shape_score = self.item_value[play2]\n",
    "            scores.append(shape_score + win_score)\n",
    "        return scores\n",
    "\n",
    "    def TotalScore(self):\n",
    "        return sum(self.data)\n",
    "\n",
    "\n"
   ]
  },
  {
   "cell_type": "code",
   "execution_count": null,
   "metadata": {},
   "outputs": [],
   "source": [
    "sol = Solution('input2')\n",
    "sol.TotalScore()"
   ]
  },
  {
   "cell_type": "markdown",
   "metadata": {},
   "source": [
    "### Part 2"
   ]
  },
  {
   "cell_type": "code",
   "execution_count": null,
   "metadata": {},
   "outputs": [],
   "source": [
    "class Solution:\n",
    "\n",
    "    def __init__(self, filename):\n",
    "        self.filename = filename\n",
    "        self.map_ABC = {'A':'Rock', 'B':'Paper', 'C':'Scissors'}       \n",
    "        self.decrypt = {('Rock','X'):0+3, ('Rock','Y'):3+1, ('Rock','Z'):6+2, ('Paper','X'):0+1, ('Paper','Y'):3+2, \n",
    "                            ('Paper','Z'):6+3, ('Scissors','X'):0+2, ('Scissors','Y'):3+3, ('Scissors','Z'):6+1}\n",
    "        self.data = self.readfile()\n",
    "\n",
    "    def readfile(self):\n",
    "        lines = open(self.filename,'r').readlines()\n",
    "        scores = []\n",
    "        for idx, line in enumerate(lines):\n",
    "            play1, play2 = line.replace('\\n','').split(' ')[:2]\n",
    "            play1 = self.map_ABC[play1]\n",
    "            win_score = self.decrypt[(play1,play2)]\n",
    "            scores.append(win_score)\n",
    "        return scores\n",
    "\n",
    "    def TotalScore(self):\n",
    "        return sum(self.data)\n",
    "\n",
    "\n"
   ]
  },
  {
   "cell_type": "code",
   "execution_count": null,
   "metadata": {},
   "outputs": [],
   "source": [
    "sol = Solution('input2')\n",
    "sol.TotalScore()"
   ]
  }
 ],
 "metadata": {
  "kernelspec": {
   "display_name": "Python 3",
   "language": "python",
   "name": "python3"
  },
  "language_info": {
   "codemirror_mode": {
    "name": "ipython",
    "version": 3
   },
   "file_extension": ".py",
   "mimetype": "text/x-python",
   "name": "python",
   "nbconvert_exporter": "python",
   "pygments_lexer": "ipython3",
   "version": "3.7.4"
  },
  "orig_nbformat": 4
 },
 "nbformat": 4,
 "nbformat_minor": 2
}
