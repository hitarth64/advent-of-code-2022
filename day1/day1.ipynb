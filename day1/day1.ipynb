{
 "cells": [
  {
   "cell_type": "code",
   "execution_count": null,
   "id": "frozen-minutes",
   "metadata": {},
   "outputs": [],
   "source": [
    "import numpy as np"
   ]
  },
  {
   "cell_type": "code",
   "execution_count": null,
   "id": "6367528e",
   "metadata": {},
   "outputs": [],
   "source": [
    "class Solution:\n",
    "\n",
    "    def __init__(self, filename):\n",
    "        self.filename = filename\n",
    "        self.data = self.readfile()\n",
    "\n",
    "    def readfile(self):\n",
    "        lines = open(self.filename,'r').readlines()\n",
    "        calories = []\n",
    "        cumsum = 0\n",
    "        for idx, calorie in enumerate(lines):\n",
    "            if calorie == '\\n':\n",
    "                calories.append(cumsum)\n",
    "                cumsum = 0\n",
    "            else:\n",
    "                cumsum += int(calorie)\n",
    "        calories.append(cumsum) # last entry\n",
    "        return calories\n",
    "\n",
    "    def MostCalories(self, top_n=1):\n",
    "        return sum(np.sort(self.data)[-top_n:])\n",
    "\n",
    "\n"
   ]
  },
  {
   "cell_type": "markdown",
   "id": "017d1697",
   "metadata": {},
   "source": [
    "### Part 1"
   ]
  },
  {
   "cell_type": "code",
   "execution_count": null,
   "id": "5cb23592",
   "metadata": {},
   "outputs": [],
   "source": [
    "solution = Solution('input1')\n",
    "solution.MostCalories(1)"
   ]
  },
  {
   "cell_type": "markdown",
   "id": "5e141e12",
   "metadata": {},
   "source": [
    "### Part 2"
   ]
  },
  {
   "cell_type": "code",
   "execution_count": null,
   "id": "2b86e6ab",
   "metadata": {},
   "outputs": [],
   "source": [
    "solution.MostCalories(3)"
   ]
  }
 ],
 "metadata": {
  "kernelspec": {
   "display_name": "Python 3",
   "language": "python",
   "name": "python3"
  },
  "language_info": {
   "codemirror_mode": {
    "name": "ipython",
    "version": 3
   },
   "file_extension": ".py",
   "mimetype": "text/x-python",
   "name": "python",
   "nbconvert_exporter": "python",
   "pygments_lexer": "ipython3",
   "version": "3.7.4"
  }
 },
 "nbformat": 4,
 "nbformat_minor": 5
}
