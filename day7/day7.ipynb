{
 "cells": [
  {
   "cell_type": "code",
   "execution_count": 1,
   "metadata": {},
   "outputs": [],
   "source": [
    "import numpy as np"
   ]
  },
  {
   "cell_type": "code",
   "execution_count": 2,
   "metadata": {},
   "outputs": [],
   "source": [
    "class Solution:\n",
    "\n",
    "    def __init__(self,filename):\n",
    "        self.filename = filename\n",
    "        self.data = self.readfile()\n",
    "\n",
    "\n",
    "    def parse_output(self, output):\n",
    "        file_sizes = []\n",
    "\n",
    "        for line in output:\n",
    "            if 'dir' != line[:3]:\n",
    "                size, _ = line.split(' ')\n",
    "                file_sizes.append(int(size))\n",
    "        \n",
    "        return sum(file_sizes)\n",
    "            \n",
    "\n",
    "    def readfile(self):\n",
    "        sizes = {}\n",
    "        current_location = []\n",
    "        accumulated_lines, accumulating = [], False\n",
    "\n",
    "        lines = open(self.filename, 'r').readlines()\n",
    "        lines = [l.replace('\\n','') for l in lines]\n",
    "        self.lines = lines\n",
    "\n",
    "        for line in lines:\n",
    "\n",
    "            if '$' in line and accumulating == True:\n",
    "                accumulating = False\n",
    "                current_size = self.parse_output(accumulated_lines)\n",
    "                accumulated_lines = []\n",
    "                for loc in range(1,len(current_location)+1):\n",
    "                    name = ''.join(current_location[:loc])\n",
    "                    if name in sizes.keys():\n",
    "                        sizes[name] += current_size\n",
    "                    else:\n",
    "                        sizes[name] = current_size\n",
    "\n",
    "            if '$ cd /' in line:\n",
    "                current_location = ['/']\n",
    "            elif '$ cd ..' in line:\n",
    "                current_location.pop()\n",
    "            elif '$ cd ' in line:\n",
    "                current_location.append(line[5:])\n",
    "            elif '$' not in line:\n",
    "                accumulating = True\n",
    "                accumulated_lines.append(line)\n",
    "                #print(accumulated_lines, accumulating, current_location, sizes)\n",
    "\n",
    "        if accumulating == True:\n",
    "            current_size = self.parse_output(accumulated_lines)\n",
    "            for location in current_location:\n",
    "                if location in sizes.keys():\n",
    "                    sizes[location] += current_size\n",
    "                else:\n",
    "                    sizes[location] = current_size\n",
    "\n",
    "        return sizes\n",
    "\n",
    "    def GetDirsAtmost10k(self): # Part 1\n",
    "        vals = []\n",
    "        for k in self.data.keys():\n",
    "            if self.data[k] <= 100000:\n",
    "                vals.append(self.data[k])\n",
    "        return sum(vals)\n",
    "\n",
    "    def GetDirToBeDeleted(self): # Part 2\n",
    "        MemoryToBeDeleted = self.data['/'] - 40000000\n",
    "        vals = []\n",
    "        for k in self.data.keys():\n",
    "            if self.data[k] >= MemoryToBeDeleted:\n",
    "                vals.append(self.data[k])\n",
    "        return min(vals)"
   ]
  },
  {
   "cell_type": "code",
   "execution_count": 3,
   "metadata": {},
   "outputs": [],
   "source": [
    "sol = Solution('input7')"
   ]
  },
  {
   "cell_type": "code",
   "execution_count": 5,
   "metadata": {},
   "outputs": [
    {
     "data": {
      "text/plain": [
       "1443806"
      ]
     },
     "execution_count": 5,
     "metadata": {},
     "output_type": "execute_result"
    }
   ],
   "source": [
    "sol.GetDirsAtmost10k() # Part 1"
   ]
  },
  {
   "cell_type": "code",
   "execution_count": 6,
   "metadata": {},
   "outputs": [
    {
     "data": {
      "text/plain": [
       "942298"
      ]
     },
     "execution_count": 6,
     "metadata": {},
     "output_type": "execute_result"
    }
   ],
   "source": [
    "sol.GetDirToBeDeleted() # Part 2"
   ]
  }
 ],
 "metadata": {
  "kernelspec": {
   "display_name": "Python 3.7.4 ('base')",
   "language": "python",
   "name": "python3"
  },
  "language_info": {
   "codemirror_mode": {
    "name": "ipython",
    "version": 3
   },
   "file_extension": ".py",
   "mimetype": "text/x-python",
   "name": "python",
   "nbconvert_exporter": "python",
   "pygments_lexer": "ipython3",
   "version": "3.7.4"
  },
  "orig_nbformat": 4,
  "vscode": {
   "interpreter": {
    "hash": "0aad41ef76d25e4920b6140ef8575eabe4c9f0684df63fed76280bc5483a0389"
   }
  }
 },
 "nbformat": 4,
 "nbformat_minor": 2
}
