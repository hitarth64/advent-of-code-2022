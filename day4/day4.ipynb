{
 "cells": [
  {
   "cell_type": "code",
   "execution_count": 1,
   "metadata": {},
   "outputs": [],
   "source": [
    "import numpy as np"
   ]
  },
  {
   "cell_type": "code",
   "execution_count": null,
   "metadata": {},
   "outputs": [],
   "source": [
    "class Solution:\n",
    "\n",
    "    def __init__(self, filename):\n",
    "        self.filename = filename\n",
    "        self.data = self.readfile()\n",
    "\n",
    "    def readfile(self):\n",
    "        lines = open(self.filename).readlines()\n",
    "        lines = [l.replace('\\n','') for l in lines]\n",
    "        return lines\n",
    "    \n",
    "    def OverlappingAssignments(self):\n",
    "        \n"
   ]
  }
 ],
 "metadata": {
  "kernelspec": {
   "display_name": "Python 3.7.4 ('base')",
   "language": "python",
   "name": "python3"
  },
  "language_info": {
   "codemirror_mode": {
    "name": "ipython",
    "version": 3
   },
   "file_extension": ".py",
   "mimetype": "text/x-python",
   "name": "python",
   "nbconvert_exporter": "python",
   "pygments_lexer": "ipython3",
   "version": "3.7.4"
  },
  "orig_nbformat": 4,
  "vscode": {
   "interpreter": {
    "hash": "0aad41ef76d25e4920b6140ef8575eabe4c9f0684df63fed76280bc5483a0389"
   }
  }
 },
 "nbformat": 4,
 "nbformat_minor": 2
}
