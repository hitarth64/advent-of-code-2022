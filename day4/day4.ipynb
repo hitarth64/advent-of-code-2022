{
 "cells": [
  {
   "cell_type": "code",
   "execution_count": 1,
   "metadata": {},
   "outputs": [],
   "source": [
    "import numpy as np\n"
   ]
  },
  {
   "cell_type": "code",
   "execution_count": 2,
   "metadata": {},
   "outputs": [],
   "source": [
    "class Solution:\n",
    "\n",
    "    def __init__(self, filename):\n",
    "        self.filename = filename\n",
    "        self.data = self.readfile()\n",
    "\n",
    "    def readfile(self):\n",
    "        lines = open(self.filename).readlines()\n",
    "        lines = [l.replace('\\n','') for l in lines]\n",
    "        return lines\n",
    "    \n",
    "    def SubsetAssignments(self): # Part 1\n",
    "        count = 0\n",
    "        for line in self.data:\n",
    "            task1, task2 = line.split(',')\n",
    "            task1, task2 = task1.split('-'), task2.split('-')\n",
    "            task1, task2 = set(np.arange(int(task1[0]), int(task1[1])+1)), set(np.arange(int(task2[0]), int(task2[1])+1))\n",
    "            if task1.issubset(task2) or task2.issubset(task1):\n",
    "                count += 1\n",
    "        return count\n",
    "\n",
    "    def OverlappingAssigments(self):\n",
    "        count = 0\n",
    "        for line in self.data:\n",
    "            task1, task2 = line.split(',')\n",
    "            task1, task2 = task1.split('-'), task2.split('-')\n",
    "            task1, task2 = set(np.arange(int(task1[0]), int(task1[1])+1)), set(np.arange(int(task2[0]), int(task2[1])+1))\n",
    "            if len(task1.intersection(task2)) > 0:\n",
    "                count += 1\n",
    "        return count        \n"
   ]
  },
  {
   "cell_type": "code",
   "execution_count": 3,
   "metadata": {},
   "outputs": [
    {
     "data": {
      "text/plain": [
       "528"
      ]
     },
     "execution_count": 3,
     "metadata": {},
     "output_type": "execute_result"
    }
   ],
   "source": [
    "sol = Solution('input4')\n",
    "sol.SubsetAssignments() # Part 1"
   ]
  },
  {
   "cell_type": "code",
   "execution_count": 4,
   "metadata": {},
   "outputs": [
    {
     "data": {
      "text/plain": [
       "881"
      ]
     },
     "execution_count": 4,
     "metadata": {},
     "output_type": "execute_result"
    }
   ],
   "source": [
    "sol.OverlappingAssigments() # Part 2"
   ]
  }
 ],
 "metadata": {
  "kernelspec": {
   "display_name": "Python 3.7.4 ('base')",
   "language": "python",
   "name": "python3"
  },
  "language_info": {
   "codemirror_mode": {
    "name": "ipython",
    "version": 3
   },
   "file_extension": ".py",
   "mimetype": "text/x-python",
   "name": "python",
   "nbconvert_exporter": "python",
   "pygments_lexer": "ipython3",
   "version": "3.7.4"
  },
  "orig_nbformat": 4,
  "vscode": {
   "interpreter": {
    "hash": "0aad41ef76d25e4920b6140ef8575eabe4c9f0684df63fed76280bc5483a0389"
   }
  }
 },
 "nbformat": 4,
 "nbformat_minor": 2
}
